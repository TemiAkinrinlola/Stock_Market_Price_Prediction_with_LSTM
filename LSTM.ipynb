{
  "nbformat": 4,
  "nbformat_minor": 0,
  "metadata": {
    "colab": {
      "name": "LSTM.ipynb",
      "provenance": [],
      "collapsed_sections": []
    },
    "kernelspec": {
      "name": "python3",
      "display_name": "Python 3"
    }
  },
  "cells": [
    {
      "cell_type": "markdown",
      "metadata": {
        "id": "nRAA-Ef8LgNR",
        "colab_type": "text"
      },
      "source": [
        "Stock market prediction with LSTM"
      ]
    },
    {
      "cell_type": "code",
      "metadata": {
        "id": "HNvkvIXELb3I",
        "colab_type": "code",
        "colab": {}
      },
      "source": [
        "import numpy as np\n",
        "from numpy.random import seed\n",
        "seed(1)\n",
        "import tensorflow\n",
        "from tensorflow.random import set_seed\n",
        "set_seed(2)\n",
        "import pandas\n",
        "import pandas_datareader as web\n",
        "from sklearn.preprocessing import MinMaxScaler\n",
        "import matplotlib.pyplot as plt\n",
        "import pandas as pd\n",
        "from keras.models import Sequential\n",
        "from keras.layers import Dense,LSTM"
      ],
      "execution_count": null,
      "outputs": []
    },
    {
      "cell_type": "code",
      "metadata": {
        "id": "s3bz8zTJOtPR",
        "colab_type": "code",
        "colab": {
          "base_uri": "https://localhost:8080/",
          "height": 428
        },
        "outputId": "d88cae3a-1fff-413b-fb37-6743aa0f6299"
      },
      "source": [
        "df=web.DataReader('PG',data_source ='yahoo',start='2019-01-01',end='2019-12-17')\n",
        "df"
      ],
      "execution_count": null,
      "outputs": [
        {
          "output_type": "execute_result",
          "data": {
            "text/html": [
              "<div>\n",
              "<style scoped>\n",
              "    .dataframe tbody tr th:only-of-type {\n",
              "        vertical-align: middle;\n",
              "    }\n",
              "\n",
              "    .dataframe tbody tr th {\n",
              "        vertical-align: top;\n",
              "    }\n",
              "\n",
              "    .dataframe thead th {\n",
              "        text-align: right;\n",
              "    }\n",
              "</style>\n",
              "<table border=\"1\" class=\"dataframe\">\n",
              "  <thead>\n",
              "    <tr style=\"text-align: right;\">\n",
              "      <th></th>\n",
              "      <th>High</th>\n",
              "      <th>Low</th>\n",
              "      <th>Open</th>\n",
              "      <th>Close</th>\n",
              "      <th>Volume</th>\n",
              "      <th>Adj Close</th>\n",
              "    </tr>\n",
              "    <tr>\n",
              "      <th>Date</th>\n",
              "      <th></th>\n",
              "      <th></th>\n",
              "      <th></th>\n",
              "      <th></th>\n",
              "      <th></th>\n",
              "      <th></th>\n",
              "    </tr>\n",
              "  </thead>\n",
              "  <tbody>\n",
              "    <tr>\n",
              "      <th>2019-01-02</th>\n",
              "      <td>91.389999</td>\n",
              "      <td>89.930000</td>\n",
              "      <td>91.029999</td>\n",
              "      <td>91.279999</td>\n",
              "      <td>9843900.0</td>\n",
              "      <td>87.124207</td>\n",
              "    </tr>\n",
              "    <tr>\n",
              "      <th>2019-01-03</th>\n",
              "      <td>92.500000</td>\n",
              "      <td>90.379997</td>\n",
              "      <td>90.940002</td>\n",
              "      <td>90.639999</td>\n",
              "      <td>9820200.0</td>\n",
              "      <td>86.513344</td>\n",
              "    </tr>\n",
              "    <tr>\n",
              "      <th>2019-01-04</th>\n",
              "      <td>92.489998</td>\n",
              "      <td>90.370003</td>\n",
              "      <td>90.839996</td>\n",
              "      <td>92.489998</td>\n",
              "      <td>10565700.0</td>\n",
              "      <td>88.279129</td>\n",
              "    </tr>\n",
              "    <tr>\n",
              "      <th>2019-01-07</th>\n",
              "      <td>92.500000</td>\n",
              "      <td>91.400002</td>\n",
              "      <td>91.910004</td>\n",
              "      <td>92.120003</td>\n",
              "      <td>9012500.0</td>\n",
              "      <td>87.925972</td>\n",
              "    </tr>\n",
              "    <tr>\n",
              "      <th>2019-01-08</th>\n",
              "      <td>93.089996</td>\n",
              "      <td>91.820000</td>\n",
              "      <td>92.699997</td>\n",
              "      <td>92.459999</td>\n",
              "      <td>9551300.0</td>\n",
              "      <td>88.250481</td>\n",
              "    </tr>\n",
              "    <tr>\n",
              "      <th>...</th>\n",
              "      <td>...</td>\n",
              "      <td>...</td>\n",
              "      <td>...</td>\n",
              "      <td>...</td>\n",
              "      <td>...</td>\n",
              "      <td>...</td>\n",
              "    </tr>\n",
              "    <tr>\n",
              "      <th>2019-12-11</th>\n",
              "      <td>125.269997</td>\n",
              "      <td>124.070000</td>\n",
              "      <td>124.269997</td>\n",
              "      <td>124.660004</td>\n",
              "      <td>4823300.0</td>\n",
              "      <td>122.330818</td>\n",
              "    </tr>\n",
              "    <tr>\n",
              "      <th>2019-12-12</th>\n",
              "      <td>125.760002</td>\n",
              "      <td>123.879997</td>\n",
              "      <td>124.779999</td>\n",
              "      <td>124.570000</td>\n",
              "      <td>5897800.0</td>\n",
              "      <td>122.242500</td>\n",
              "    </tr>\n",
              "    <tr>\n",
              "      <th>2019-12-13</th>\n",
              "      <td>125.739998</td>\n",
              "      <td>123.790001</td>\n",
              "      <td>124.209999</td>\n",
              "      <td>125.470001</td>\n",
              "      <td>5471600.0</td>\n",
              "      <td>123.125679</td>\n",
              "    </tr>\n",
              "    <tr>\n",
              "      <th>2019-12-16</th>\n",
              "      <td>126.349998</td>\n",
              "      <td>125.349998</td>\n",
              "      <td>125.470001</td>\n",
              "      <td>125.559998</td>\n",
              "      <td>8281900.0</td>\n",
              "      <td>123.213997</td>\n",
              "    </tr>\n",
              "    <tr>\n",
              "      <th>2019-12-17</th>\n",
              "      <td>125.980003</td>\n",
              "      <td>124.309998</td>\n",
              "      <td>125.589996</td>\n",
              "      <td>125.309998</td>\n",
              "      <td>8832200.0</td>\n",
              "      <td>122.968666</td>\n",
              "    </tr>\n",
              "  </tbody>\n",
              "</table>\n",
              "<p>243 rows × 6 columns</p>\n",
              "</div>"
            ],
            "text/plain": [
              "                  High         Low  ...      Volume   Adj Close\n",
              "Date                                ...                        \n",
              "2019-01-02   91.389999   89.930000  ...   9843900.0   87.124207\n",
              "2019-01-03   92.500000   90.379997  ...   9820200.0   86.513344\n",
              "2019-01-04   92.489998   90.370003  ...  10565700.0   88.279129\n",
              "2019-01-07   92.500000   91.400002  ...   9012500.0   87.925972\n",
              "2019-01-08   93.089996   91.820000  ...   9551300.0   88.250481\n",
              "...                ...         ...  ...         ...         ...\n",
              "2019-12-11  125.269997  124.070000  ...   4823300.0  122.330818\n",
              "2019-12-12  125.760002  123.879997  ...   5897800.0  122.242500\n",
              "2019-12-13  125.739998  123.790001  ...   5471600.0  123.125679\n",
              "2019-12-16  126.349998  125.349998  ...   8281900.0  123.213997\n",
              "2019-12-17  125.980003  124.309998  ...   8832200.0  122.968666\n",
              "\n",
              "[243 rows x 6 columns]"
            ]
          },
          "metadata": {
            "tags": []
          },
          "execution_count": 1198
        }
      ]
    },
    {
      "cell_type": "code",
      "metadata": {
        "id": "hst3FFBgPtGv",
        "colab_type": "code",
        "colab": {
          "base_uri": "https://localhost:8080/",
          "height": 35
        },
        "outputId": "396b50ce-a22a-43d9-c4db-674807ca2df5"
      },
      "source": [
        "df.shape"
      ],
      "execution_count": null,
      "outputs": [
        {
          "output_type": "execute_result",
          "data": {
            "text/plain": [
              "(243, 6)"
            ]
          },
          "metadata": {
            "tags": []
          },
          "execution_count": 1199
        }
      ]
    },
    {
      "cell_type": "code",
      "metadata": {
        "id": "EIK_hbJdPwIu",
        "colab_type": "code",
        "colab": {
          "base_uri": "https://localhost:8080/",
          "height": 521
        },
        "outputId": "3ee04d64-b3d7-4959-f339-aadbc2814143"
      },
      "source": [
        "plt.figure(figsize=(16,8))\n",
        "plt.title('closing price history')\n",
        "plt.plot(df['Close'])\n",
        "plt.xlabel('Date',fontsize =18)\n",
        "plt.ylabel('close price',fontsize=18)\n",
        "plt.show()"
      ],
      "execution_count": null,
      "outputs": [
        {
          "output_type": "display_data",
          "data": {
            "image/png": "[encoded data removed]",
            "text/plain": [
              "<Figure size 1152x576 with 1 Axes>"
            ]
          },
          "metadata": {
            "tags": [],
            "needs_background": "light"
          }
        }
      ]
    },
    {
      "cell_type": "code",
      "metadata": {
        "id": "0fzq71F3QDHy",
        "colab_type": "code",
        "colab": {
          "base_uri": "https://localhost:8080/",
          "height": 35
        },
        "outputId": "0aff91b6-394f-422d-e765-dbf02febe9e6"
      },
      "source": [
        "import math\n",
        "data=df.filter(['Close'])\n",
        "dataset =data.values\n",
        "training_data_len =math.ceil(len(dataset)*0.8)\n",
        "\n",
        "training_data_len"
      ],
      "execution_count": null,
      "outputs": [
        {
          "output_type": "execute_result",
          "data": {
            "text/plain": [
              "195"
            ]
          },
          "metadata": {
            "tags": []
          },
          "execution_count": 1201
        }
      ]
    },
    {
      "cell_type": "code",
      "metadata": {
        "id": "yMwTmrQ_RLNZ",
        "colab_type": "code",
        "colab": {
          "base_uri": "https://localhost:8080/",
          "height": 1000
        },
        "outputId": "c2e5e535-7bd1-4537-9634-f4d11ec5677d"
      },
      "source": [
        "scaler=MinMaxScaler(feature_range=(0,1))\n",
        "scaled_data =scaler.fit_transform(dataset)\n",
        "\n",
        "scaled_data"
      ],
      "execution_count": null,
      "outputs": [
        {
          "output_type": "execute_result",
          "data": {
            "text/plain": [
              "array([[0.02391789],\n",
              "       [0.00569467],\n",
              "       [0.05837118],\n",
              "       [0.04783601],\n",
              "       [0.057517  ],\n",
              "       [0.01452149],\n",
              "       [0.02078576],\n",
              "       [0.03787   ],\n",
              "       [0.02021638],\n",
              "       [0.04470387],\n",
              "       [0.02648065],\n",
              "       [0.00569467],\n",
              "       [0.02790421],\n",
              "       [0.        ],\n",
              "       [0.12528458],\n",
              "       [0.10990892],\n",
              "       [0.08997712],\n",
              "       [0.08769916],\n",
              "       [0.08826876],\n",
              "       [0.11617297],\n",
              "       [0.17169703],\n",
              "       [0.20017084],\n",
              "       [0.2161161 ],\n",
              "       [0.19931666],\n",
              "       [0.21298396],\n",
              "       [0.19077443],\n",
              "       [0.20700449],\n",
              "       [0.22294975],\n",
              "       [0.25113898],\n",
              "       [0.25056938],\n",
              "       [0.22835985],\n",
              "       [0.22892944],\n",
              "       [0.27192474],\n",
              "       [0.25170836],\n",
              "       [0.26594526],\n",
              "       [0.27932799],\n",
              "       [0.25996579],\n",
              "       [0.26736904],\n",
              "       [0.24117319],\n",
              "       [0.2309226 ],\n",
              "       [0.22779046],\n",
              "       [0.24003421],\n",
              "       [0.24629827],\n",
              "       [0.24174257],\n",
              "       [0.2309226 ],\n",
              "       [0.22693628],\n",
              "       [0.26025059],\n",
              "       [0.27363331],\n",
              "       [0.30580864],\n",
              "       [0.30979495],\n",
              "       [0.3416857 ],\n",
              "       [0.31520505],\n",
              "       [0.32630981],\n",
              "       [0.32118452],\n",
              "       [0.34310926],\n",
              "       [0.31947616],\n",
              "       [0.32801817],\n",
              "       [0.35820034],\n",
              "       [0.35478362],\n",
              "       [0.37329164],\n",
              "       [0.38752855],\n",
              "       [0.37585418],\n",
              "       [0.37898632],\n",
              "       [0.37727796],\n",
              "       [0.36987471],\n",
              "       [0.37613898],\n",
              "       [0.4137244 ],\n",
              "       [0.40489759],\n",
              "       [0.40461279],\n",
              "       [0.40746012],\n",
              "       [0.41628693],\n",
              "       [0.43536455],\n",
              "       [0.45501133],\n",
              "       [0.43878127],\n",
              "       [0.44447616],\n",
              "       [0.44333718],\n",
              "       [0.36218687],\n",
              "       [0.37727796],\n",
              "       [0.36560359],\n",
              "       [0.43906607],\n",
              "       [0.4083143 ],\n",
              "       [0.45671991],\n",
              "       [0.41258542],\n",
              "       [0.43052384],\n",
              "       [0.44533034],\n",
              "       [0.43394077],\n",
              "       [0.40603635],\n",
              "       [0.41657173],\n",
              "       [0.39293842],\n",
              "       [0.44333718],\n",
              "       [0.44618452],\n",
              "       [0.43166282],\n",
              "       [0.46298396],\n",
              "       [0.50313214],\n",
              "       [0.48433932],\n",
              "       [0.4809226 ],\n",
              "       [0.45358777],\n",
              "       [0.46355356],\n",
              "       [0.46469254],\n",
              "       [0.46269938],\n",
              "       [0.39920269],\n",
              "       [0.39151486],\n",
              "       [0.42397498],\n",
              "       [0.35506842],\n",
              "       [0.38041009],\n",
              "       [0.40546697],\n",
              "       [0.46383836],\n",
              "       [0.48234616],\n",
              "       [0.52192474],\n",
              "       [0.52050118],\n",
              "       [0.53929378],\n",
              "       [0.54783601],\n",
              "       [0.58285889],\n",
              "       [0.5911161 ],\n",
              "       [0.58513663],\n",
              "       [0.54555805],\n",
              "       [0.56890656],\n",
              "       [0.60649198],\n",
              "       [0.5911161 ],\n",
              "       [0.62329164],\n",
              "       [0.6059226 ],\n",
              "       [0.54925978],\n",
              "       [0.55068334],\n",
              "       [0.54698183],\n",
              "       [0.57089972],\n",
              "       [0.59908895],\n",
              "       [0.67312081],\n",
              "       [0.64664015],\n",
              "       [0.67226663],\n",
              "       [0.6398065 ],\n",
              "       [0.6637244 ],\n",
              "       [0.68166282],\n",
              "       [0.69903186],\n",
              "       [0.71298418],\n",
              "       [0.72465833],\n",
              "       [0.72608211],\n",
              "       [0.7118452 ],\n",
              "       [0.69960146],\n",
              "       [0.70785889],\n",
              "       [0.66657173],\n",
              "       [0.63097947],\n",
              "       [0.63581997],\n",
              "       [0.69162882],\n",
              "       [0.72779046],\n",
              "       [0.85336006],\n",
              "       [0.78587706],\n",
              "       [0.74857644],\n",
              "       [0.74031901],\n",
              "       [0.644647  ],\n",
              "       [0.67881548],\n",
              "       [0.71412294],\n",
              "       [0.76879282],\n",
              "       [0.75      ],\n",
              "       [0.72864464],\n",
              "       [0.76338272],\n",
              "       [0.72181099],\n",
              "       [0.76736904],\n",
              "       [0.81833718],\n",
              "       [0.84851935],\n",
              "       [0.81036455],\n",
              "       [0.81890656],\n",
              "       [0.82517084],\n",
              "       [0.76537588],\n",
              "       [0.8223235 ],\n",
              "       [0.85734638],\n",
              "       [0.88154907],\n",
              "       [0.8752848 ],\n",
              "       [0.84823477],\n",
              "       [0.88041009],\n",
              "       [0.93308659],\n",
              "       [0.92027347],\n",
              "       [0.9234056 ],\n",
              "       [0.90347381],\n",
              "       [0.83826876],\n",
              "       [0.87784734],\n",
              "       [0.92055805],\n",
              "       [0.90205025],\n",
              "       [0.83456724],\n",
              "       [0.87471542],\n",
              "       [0.88183387],\n",
              "       [0.89578598],\n",
              "       [0.90546697],\n",
              "       [0.93337139],\n",
              "       [0.94447616],\n",
              "       [0.9276765 ],\n",
              "       [0.96440774],\n",
              "       [0.97181099],\n",
              "       [0.9664009 ],\n",
              "       [0.95130981],\n",
              "       [0.87243746],\n",
              "       [0.89123006],\n",
              "       [0.95558093],\n",
              "       [0.92255121],\n",
              "       [0.86816635],\n",
              "       [0.89806393],\n",
              "       [0.89692495],\n",
              "       [0.87272204],\n",
              "       [0.84310947],\n",
              "       [0.76195895],\n",
              "       [0.77135536],\n",
              "       [0.74572889],\n",
              "       [0.769647  ],\n",
              "       [0.81548985],\n",
              "       [0.90375861],\n",
              "       [0.92710712],\n",
              "       [0.97807526],\n",
              "       [0.93422557],\n",
              "       [0.94077464],\n",
              "       [0.94419136],\n",
              "       [0.98234638],\n",
              "       [0.97010263],\n",
              "       [0.95187941],\n",
              "       [0.81520505],\n",
              "       [0.81036455],\n",
              "       [0.85079731],\n",
              "       [0.83086573],\n",
              "       [0.83314347],\n",
              "       [0.8226083 ],\n",
              "       [0.82089972],\n",
              "       [0.86019372],\n",
              "       [0.8559226 ],\n",
              "       [0.85706158],\n",
              "       [0.89550118],\n",
              "       [0.88211845],\n",
              "       [0.90689074],\n",
              "       [0.85136669],\n",
              "       [0.84994313],\n",
              "       [0.8562074 ],\n",
              "       [0.90603656],\n",
              "       [0.89179966],\n",
              "       [0.90034167],\n",
              "       [0.91913449],\n",
              "       [0.92568334],\n",
              "       [0.97067201],\n",
              "       [0.97323477],\n",
              "       [0.96099102],\n",
              "       [0.98035322],\n",
              "       [0.96326876],\n",
              "       [0.97437375],\n",
              "       [0.97181099],\n",
              "       [0.99743746],\n",
              "       [1.        ],\n",
              "       [0.99288155]])"
            ]
          },
          "metadata": {
            "tags": []
          },
          "execution_count": 1202
        }
      ]
    },
    {
      "cell_type": "code",
      "metadata": {
        "id": "IQ5vKMJARr6N",
        "colab_type": "code",
        "colab": {
          "base_uri": "https://localhost:8080/",
          "height": 266
        },
        "outputId": "bd05c1fe-a5ec-4d43-cd74-ea22f7f61e66"
      },
      "source": [
        "train_data=scaled_data[0:training_data_len,:]\n",
        "\n",
        "x_train=[]\n",
        "y_train=[]\n",
        "\n",
        "for i in range (60,len(train_data)):\n",
        "  x_train.append(train_data[i-60:i,0])\n",
        "  y_train.append(train_data[i,0])\n",
        "  if i<=60:\n",
        "     print(x_train)\n",
        "     print(y_train)\n",
        "     print()"
      ],
      "execution_count": null,
      "outputs": [
        {
          "output_type": "stream",
          "text": [
            "[array([0.02391789, 0.00569467, 0.05837118, 0.04783601, 0.057517  ,\n",
            "       0.01452149, 0.02078576, 0.03787   , 0.02021638, 0.04470387,\n",
            "       0.02648065, 0.00569467, 0.02790421, 0.        , 0.12528458,\n",
            "       0.10990892, 0.08997712, 0.08769916, 0.08826876, 0.11617297,\n",
            "       0.17169703, 0.20017084, 0.2161161 , 0.19931666, 0.21298396,\n",
            "       0.19077443, 0.20700449, 0.22294975, 0.25113898, 0.25056938,\n",
            "       0.22835985, 0.22892944, 0.27192474, 0.25170836, 0.26594526,\n",
            "       0.27932799, 0.25996579, 0.26736904, 0.24117319, 0.2309226 ,\n",
            "       0.22779046, 0.24003421, 0.24629827, 0.24174257, 0.2309226 ,\n",
            "       0.22693628, 0.26025059, 0.27363331, 0.30580864, 0.30979495,\n",
            "       0.3416857 , 0.31520505, 0.32630981, 0.32118452, 0.34310926,\n",
            "       0.31947616, 0.32801817, 0.35820034, 0.35478362, 0.37329164])]\n",
            "[0.38752854506209555]\n",
            "\n"
          ],
          "name": "stdout"
        }
      ]
    },
    {
      "cell_type": "code",
      "metadata": {
        "id": "NU22nL5HTXiU",
        "colab_type": "code",
        "colab": {}
      },
      "source": [
        "x_train,y_train=np.array(x_train),np.array(y_train)"
      ],
      "execution_count": null,
      "outputs": []
    },
    {
      "cell_type": "code",
      "metadata": {
        "id": "wuD4bE8YTmng",
        "colab_type": "code",
        "colab": {
          "base_uri": "https://localhost:8080/",
          "height": 35
        },
        "outputId": "f464cfd8-d65a-41b4-f636-cba3c3c3e60e"
      },
      "source": [
        "x_train=np.reshape(x_train,(x_train.shape[0],x_train.shape[1],1))\n",
        "x_train.shape"
      ],
      "execution_count": null,
      "outputs": [
        {
          "output_type": "execute_result",
          "data": {
            "text/plain": [
              "(135, 60, 1)"
            ]
          },
          "metadata": {
            "tags": []
          },
          "execution_count": 1205
        }
      ]
    },
    {
      "cell_type": "code",
      "metadata": {
        "id": "ABzn2jp4Un88",
        "colab_type": "code",
        "colab": {}
      },
      "source": [
        "model=Sequential()\n",
        "model.add(LSTM(50,return_sequences=True,input_shape=(x_train.shape[1],1)))\n",
        "model.add(LSTM(50,return_sequences=False))\n",
        "model.add(Dense(25))\n",
        "model.add(Dense(1))\n"
      ],
      "execution_count": null,
      "outputs": []
    },
    {
      "cell_type": "code",
      "metadata": {
        "id": "IuWZxCxSVjXI",
        "colab_type": "code",
        "colab": {}
      },
      "source": [
        "model.compile(optimizer='adam',loss='mean_squared_error')"
      ],
      "execution_count": null,
      "outputs": []
    },
    {
      "cell_type": "code",
      "metadata": {
        "id": "9z1jdMOBV0dE",
        "colab_type": "code",
        "colab": {
          "base_uri": "https://localhost:8080/",
          "height": 52
        },
        "outputId": "eb3cd881-232d-4217-dd98-91cc88ca64df"
      },
      "source": [
        "model.fit(x_train,y_train,batch_size=1,epochs=1)"
      ],
      "execution_count": null,
      "outputs": [
        {
          "output_type": "stream",
          "text": [
            "135/135 [==============================] - 3s 21ms/step - loss: 0.0317\n"
          ],
          "name": "stdout"
        },
        {
          "output_type": "execute_result",
          "data": {
            "text/plain": [
              "<tensorflow.python.keras.callbacks.History at 0x7f216fc28c50>"
            ]
          },
          "metadata": {
            "tags": []
          },
          "execution_count": 1208
        }
      ]
    },
    {
      "cell_type": "code",
      "metadata": {
        "id": "YcUDo4yBWGsl",
        "colab_type": "code",
        "colab": {}
      },
      "source": [
        "test_data=scaled_data[training_data_len-60:,:]\n",
        "x_test=[]\n",
        "y_test=dataset[training_data_len:,:]\n",
        "\n",
        "for i in range(60,len(test_data)):\n",
        "  x_test.append(test_data[i-60:i,0])\n"
      ],
      "execution_count": null,
      "outputs": []
    },
    {
      "cell_type": "code",
      "metadata": {
        "id": "HpyRXwT-W3oY",
        "colab_type": "code",
        "colab": {}
      },
      "source": [
        "x_test=np.array(x_test)\n"
      ],
      "execution_count": null,
      "outputs": []
    },
    {
      "cell_type": "code",
      "metadata": {
        "id": "Zrf8ktpQXpeP",
        "colab_type": "code",
        "colab": {
          "base_uri": "https://localhost:8080/",
          "height": 35
        },
        "outputId": "1df1c4a3-c44e-4f48-a333-7df8d7467e66"
      },
      "source": [
        "x_test.shape"
      ],
      "execution_count": null,
      "outputs": [
        {
          "output_type": "execute_result",
          "data": {
            "text/plain": [
              "(48, 60)"
            ]
          },
          "metadata": {
            "tags": []
          },
          "execution_count": 1211
        }
      ]
    },
    {
      "cell_type": "code",
      "metadata": {
        "id": "5YWVLdYrXDDI",
        "colab_type": "code",
        "colab": {}
      },
      "source": [
        "x_test= np.reshape(x_test,(x_test.shape[0], x_test.shape[1], 1))\n"
      ],
      "execution_count": null,
      "outputs": []
    },
    {
      "cell_type": "code",
      "metadata": {
        "id": "hE4Oaj3CYN9Y",
        "colab_type": "code",
        "colab": {}
      },
      "source": [
        "predictions= model.predict(x_test)\n",
        "predictions=scaler.inverse_transform(predictions)\n",
        "\n"
      ],
      "execution_count": null,
      "outputs": []
    },
    {
      "cell_type": "code",
      "metadata": {
        "id": "1QOQKip_Yhwe",
        "colab_type": "code",
        "colab": {
          "base_uri": "https://localhost:8080/",
          "height": 35
        },
        "outputId": "6b8156fd-f9b1-4cec-e29f-c32c2fb3c27e"
      },
      "source": [
        "rmse=np.sqrt(np.mean(predictions-y_test)**2)\n",
        "rmse"
      ],
      "execution_count": null,
      "outputs": [
        {
          "output_type": "execute_result",
          "data": {
            "text/plain": [
              "2.2368456522623696"
            ]
          },
          "metadata": {
            "tags": []
          },
          "execution_count": 1214
        }
      ]
    }
  ]
}